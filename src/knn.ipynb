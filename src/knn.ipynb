{
  "nbformat": 4,
  "nbformat_minor": 0,
  "metadata": {
    "colab": {
      "name": "knn.ipynb",
      "version": "0.3.2",
      "provenance": [
        {
          "file_id": "1lN4Rd8htdyFazGXe7kOGiNfym3ygj9PU",
          "timestamp": 1556919055779
        },
        {
          "file_id": "https://github.com/hsandmann/espm.ml/blob/master/knn/knn.ipynb",
          "timestamp": 1556918888372
        }
      ],
      "collapsed_sections": []
    },
    "language_info": {
      "codemirror_mode": {
        "name": "ipython",
        "version": 3
      },
      "file_extension": ".py",
      "mimetype": "text/x-python",
      "name": "python",
      "nbconvert_exporter": "python",
      "pygments_lexer": "ipython3",
      "version": "3.7.3"
    },
    "kernelspec": {
      "display_name": "Python 3",
      "language": "python",
      "name": "python3"
    },
    "stem_cell": {
      "cell_type": "raw",
      "source": "",
      "metadata": {
        "pycharm": {
          "metadata": false
        }
      }
    }
  },
  "cells": [
    {
      "cell_type": "markdown",
      "source": "# Simple k-nn implementation\n",
      "metadata": {
        "pycharm": {
          "metadata": false,
          "name": "#%% md\n"
        }
      }
    },
    {
      "cell_type": "code",
      "metadata": {
        "pycharm": {},
        "id": "iK0tbIkigwgT",
        "colab_type": "code",
        "colab": {}
      },
      "source": "from sklearn.metrics import classification_report, confusion_matrix\nfrom sklearn.model_selection import train_test_split\nfrom sklearn.neighbors import KNeighborsClassifier\nfrom sklearn.preprocessing import StandardScaler\nfrom matplotlib import pyplot\n\nimport pandas\nimport numpy\n",
      "execution_count": 0,
      "outputs": []
    },
    {
      "cell_type": "markdown",
      "metadata": {
        "pycharm": {},
        "id": "2BQ9GftagwhB",
        "colab_type": "text"
      },
      "source": "### Dataset Import\n"
    },
    {
      "cell_type": "code",
      "metadata": {
        "pycharm": {},
        "id": "g6NyBj1ngwhD",
        "colab_type": "code",
        "colab": {}
      },
      "source": "url \u003d \"https://archive.ics.uci.edu/ml/machine-learning-databases/iris/iris.data\"\n\nnames \u003d [\u0027sepal-length\u0027, \u0027sepal-width\u0027, \u0027petal-length\u0027, \u0027petal-width\u0027, \u0027Class\u0027]\n\ndataset \u003d pandas.read_csv(url, names\u003dnames)  \n",
      "execution_count": 0,
      "outputs": []
    },
    {
      "cell_type": "markdown",
      "metadata": {
        "pycharm": {},
        "id": "KzDn0ro-gwhI",
        "colab_type": "text"
      },
      "source": "### Data\n"
    },
    {
      "cell_type": "code",
      "metadata": {
        "pycharm": {},
        "id": "FtDd23yTgwhJ",
        "colab_type": "code",
        "outputId": "b92913a9-660c-4be3-aeb4-d6fd58629da6",
        "executionInfo": {
          "status": "ok",
          "timestamp": 1556925150362,
          "user_tz": 180,
          "elapsed": 702,
          "user": {
            "displayName": "Bruno Paes",
            "photoUrl": "https://lh5.googleusercontent.com/-wDCYhuGHeIQ/AAAAAAAAAAI/AAAAAAAABWw/h7HSuhmn0BM/s64/photo.jpg",
            "userId": "02885968272942003649"
          }
        },
        "colab": {
          "base_uri": "https://localhost:8080/",
          "height": 143
        }
      },
      "source": "dataset.head(3)\n",
      "execution_count": 16,
      "outputs": [
        {
          "output_type": "execute_result",
          "data": {
            "text/html": [
              "\u003cdiv\u003e\n",
              "\u003cstyle scoped\u003e\n",
              "    .dataframe tbody tr th:only-of-type {\n",
              "        vertical-align: middle;\n",
              "    }\n",
              "\n",
              "    .dataframe tbody tr th {\n",
              "        vertical-align: top;\n",
              "    }\n",
              "\n",
              "    .dataframe thead th {\n",
              "        text-align: right;\n",
              "    }\n",
              "\u003c/style\u003e\n",
              "\u003ctable border\u003d\"1\" class\u003d\"dataframe\"\u003e\n",
              "  \u003cthead\u003e\n",
              "    \u003ctr style\u003d\"text-align: right;\"\u003e\n",
              "      \u003cth\u003e\u003c/th\u003e\n",
              "      \u003cth\u003esepal-length\u003c/th\u003e\n",
              "      \u003cth\u003esepal-width\u003c/th\u003e\n",
              "      \u003cth\u003epetal-length\u003c/th\u003e\n",
              "      \u003cth\u003epetal-width\u003c/th\u003e\n",
              "      \u003cth\u003eClass\u003c/th\u003e\n",
              "    \u003c/tr\u003e\n",
              "  \u003c/thead\u003e\n",
              "  \u003ctbody\u003e\n",
              "    \u003ctr\u003e\n",
              "      \u003cth\u003e0\u003c/th\u003e\n",
              "      \u003ctd\u003e5.1\u003c/td\u003e\n",
              "      \u003ctd\u003e3.5\u003c/td\u003e\n",
              "      \u003ctd\u003e1.4\u003c/td\u003e\n",
              "      \u003ctd\u003e0.2\u003c/td\u003e\n",
              "      \u003ctd\u003eIris-setosa\u003c/td\u003e\n",
              "    \u003c/tr\u003e\n",
              "    \u003ctr\u003e\n",
              "      \u003cth\u003e1\u003c/th\u003e\n",
              "      \u003ctd\u003e4.9\u003c/td\u003e\n",
              "      \u003ctd\u003e3.0\u003c/td\u003e\n",
              "      \u003ctd\u003e1.4\u003c/td\u003e\n",
              "      \u003ctd\u003e0.2\u003c/td\u003e\n",
              "      \u003ctd\u003eIris-setosa\u003c/td\u003e\n",
              "    \u003c/tr\u003e\n",
              "    \u003ctr\u003e\n",
              "      \u003cth\u003e2\u003c/th\u003e\n",
              "      \u003ctd\u003e4.7\u003c/td\u003e\n",
              "      \u003ctd\u003e3.2\u003c/td\u003e\n",
              "      \u003ctd\u003e1.3\u003c/td\u003e\n",
              "      \u003ctd\u003e0.2\u003c/td\u003e\n",
              "      \u003ctd\u003eIris-setosa\u003c/td\u003e\n",
              "    \u003c/tr\u003e\n",
              "  \u003c/tbody\u003e\n",
              "\u003c/table\u003e\n",
              "\u003c/div\u003e"
            ],
            "text/plain": [
              "   sepal-length  sepal-width  petal-length  petal-width        Class\n",
              "0           5.1          3.5           1.4          0.2  Iris-setosa\n",
              "1           4.9          3.0           1.4          0.2  Iris-setosa\n",
              "2           4.7          3.2           1.3          0.2  Iris-setosa"
            ]
          },
          "metadata": {
            "tags": []
          },
          "execution_count": 16
        }
      ]
    },
    {
      "cell_type": "markdown",
      "metadata": {
        "pycharm": {},
        "id": "meTGG1rdgwhQ",
        "colab_type": "text"
      },
      "source": "### Pre processing\n"
    },
    {
      "cell_type": "code",
      "metadata": {
        "pycharm": {},
        "id": "yRlIwEs9gwhS",
        "colab_type": "code",
        "colab": {}
      },
      "source": "sample \u003d dataset.iloc[:, :-1].values\ntarget \u003d dataset.iloc[:, 4].values\n",
      "execution_count": 0,
      "outputs": []
    },
    {
      "cell_type": "markdown",
      "metadata": {
        "pycharm": {},
        "id": "uqsffYCdgwhW",
        "colab_type": "text"
      },
      "source": "### Splitting in Train/Tests"
    },
    {
      "cell_type": "code",
      "metadata": {
        "pycharm": {},
        "id": "9orIM32jgwhY",
        "colab_type": "code",
        "colab": {}
      },
      "source": "\nsample_train, sample_test, target_train, target_test \u003d train_test_split(sample, target, test_size\u003d0.20)",
      "execution_count": 0,
      "outputs": []
    },
    {
      "cell_type": "markdown",
      "metadata": {
        "pycharm": {
          "name": "#%% md\n"
        },
        "id": "reM3QDZrgwhb",
        "colab_type": "text"
      },
      "source": "\n### Data Normalizing"
    },
    {
      "cell_type": "code",
      "metadata": {
        "pycharm": {},
        "id": "U4ZQ1gCJgwhd",
        "colab_type": "code",
        "colab": {}
      },
      "source": "scaler \u003d StandardScaler()  \nscaler.fit(sample_train)\n\nsample_train \u003d scaler.transform(sample_train)\nsample_test \u003d scaler.transform(sample_test)\n",
      "execution_count": 0,
      "outputs": []
    },
    {
      "cell_type": "markdown",
      "metadata": {
        "pycharm": {},
        "id": "UtMjNxhhgwhg",
        "colab_type": "text"
      },
      "source": "### Training\n"
    },
    {
      "cell_type": "code",
      "metadata": {
        "pycharm": {},
        "id": "z-BK1jEmgwhh",
        "colab_type": "code",
        "outputId": "1292bf19-2e89-46b3-dfb7-331bf8a54e51",
        "executionInfo": {
          "status": "ok",
          "timestamp": 1556925194719,
          "user_tz": 180,
          "elapsed": 625,
          "user": {
            "displayName": "Bruno Paes",
            "photoUrl": "https://lh5.googleusercontent.com/-wDCYhuGHeIQ/AAAAAAAAAAI/AAAAAAAABWw/h7HSuhmn0BM/s64/photo.jpg",
            "userId": "02885968272942003649"
          }
        },
        "colab": {
          "base_uri": "https://localhost:8080/",
          "height": 73
        }
      },
      "source": "classifier \u003d KNeighborsClassifier(n_neighbors\u003d1)\nclassifier.fit(sample_train, target_train)\n",
      "execution_count": 20,
      "outputs": [
        {
          "output_type": "execute_result",
          "data": {
            "text/plain": [
              "KNeighborsClassifier(algorithm\u003d\u0027auto\u0027, leaf_size\u003d30, metric\u003d\u0027minkowski\u0027,\n",
              "           metric_params\u003dNone, n_jobs\u003dNone, n_neighbors\u003d1, p\u003d2,\n",
              "           weights\u003d\u0027uniform\u0027)"
            ]
          },
          "metadata": {
            "tags": []
          },
          "execution_count": 20
        }
      ]
    },
    {
      "cell_type": "markdown",
      "metadata": {
        "pycharm": {},
        "id": "CVL7vDgMgwhn",
        "colab_type": "text"
      },
      "source": "### Prediction"
    },
    {
      "cell_type": "code",
      "metadata": {
        "pycharm": {},
        "id": "57Y0uiAZgwho",
        "colab_type": "code",
        "colab": {}
      },
      "source": "target_pred \u003d classifier.predict(sample_test)\n",
      "execution_count": 0,
      "outputs": []
    },
    {
      "cell_type": "markdown",
      "metadata": {
        "pycharm": {},
        "id": "JYch-2wHgwhr",
        "colab_type": "text"
      },
      "source": "### Result availing\n"
    },
    {
      "cell_type": "code",
      "metadata": {
        "pycharm": {},
        "id": "Pihg0Qgggwhs",
        "colab_type": "code",
        "outputId": "9d11f19b-2b5d-4835-c819-1226e05134e4",
        "executionInfo": {
          "status": "ok",
          "timestamp": 1556925212664,
          "user_tz": 180,
          "elapsed": 599,
          "user": {
            "displayName": "Bruno Paes",
            "photoUrl": "https://lh5.googleusercontent.com/-wDCYhuGHeIQ/AAAAAAAAAAI/AAAAAAAABWw/h7HSuhmn0BM/s64/photo.jpg",
            "userId": "02885968272942003649"
          }
        },
        "colab": {
          "base_uri": "https://localhost:8080/",
          "height": 261
        }
      },
      "source": "print(confusion_matrix(target_test, target_pred))  \nprint(classification_report(target_test, target_pred))  \n",
      "execution_count": 22,
      "outputs": [
        {
          "output_type": "stream",
          "text": [
            "[[ 8  0  0]\n",
            " [ 0  9  0]\n",
            " [ 0  1 12]]\n",
            "                 precision    recall  f1-score   support\n",
            "\n",
            "    Iris-setosa       1.00      1.00      1.00         8\n",
            "Iris-versicolor       0.90      1.00      0.95         9\n",
            " Iris-virginica       1.00      0.92      0.96        13\n",
            "\n",
            "      micro avg       0.97      0.97      0.97        30\n",
            "      macro avg       0.97      0.97      0.97        30\n",
            "   weighted avg       0.97      0.97      0.97        30\n",
            "\n"
          ],
          "name": "stdout"
        }
      ]
    },
    {
      "cell_type": "markdown",
      "metadata": {
        "pycharm": {},
        "id": "6MtujY5ggwhx",
        "colab_type": "text"
      },
      "source": "### Grid Search\n"
    },
    {
      "cell_type": "code",
      "metadata": {
        "pycharm": {},
        "id": "-FiQ3dnxgwhy",
        "colab_type": "code",
        "colab": {}
      },
      "source": "error \u003d []\nassertiveness \u003d []\n\nfor i in range(1, 121):  \n    knn \u003d KNeighborsClassifier(n_neighbors\u003di, algorithm\u003d\u0027brute\u0027)\n    knn.fit(sample_train, target_train)\n    pred_i \u003d knn.predict(sample_test)\n    error.append(numpy.mean(pred_i !\u003d target_test))\n    assertiveness.append(numpy.mean(pred_i \u003d\u003d target_test))\n",
      "execution_count": 0,
      "outputs": []
    },
    {
      "cell_type": "code",
      "metadata": {
        "pycharm": {},
        "id": "vVnnIsS-gwh0",
        "colab_type": "code",
        "outputId": "67bcb472-6093-48cc-8523-15ec016ad5bf",
        "executionInfo": {
          "status": "ok",
          "timestamp": 1556925334826,
          "user_tz": 180,
          "elapsed": 1055,
          "user": {
            "displayName": "Bruno Paes",
            "photoUrl": "https://lh5.googleusercontent.com/-wDCYhuGHeIQ/AAAAAAAAAAI/AAAAAAAABWw/h7HSuhmn0BM/s64/photo.jpg",
            "userId": "02885968272942003649"
          }
        },
        "colab": {
          "base_uri": "https://localhost:8080/",
          "height": 586
        }
      },
      "source": "pyplot.figure(figsize\u003d(18, 9))  \npyplot.plot(range(1, 121), error, color\u003d\u0027red\u0027, linestyle\u003d\u0027-\u0027, marker\u003d\u0027 \u0027, markerfacecolor\u003d\u0027blue\u0027, markersize\u003d10)\npyplot.plot(range(1, 121), assertiveness, color\u003d\u0027blue\u0027, linestyle\u003d\u0027-\u0027, marker\u003d\u0027 \u0027, markerfacecolor\u003d\u0027blue\u0027, markersize\u003d10)\npyplot.legend([\u0027error\u0027, \u0027assertiveness\u0027], loc\u003d\u0027upper right\u0027, prop\u003d{\u0027size\u0027: 15})\npyplot.title(\u0027Error | Assertiveness Rate K Value\u0027)  \npyplot.xlabel(\u0027K Value\u0027)  \npyplot.ylabel(\u0027Mean Error | Assertiveness\u0027)  \n",
      "execution_count": 23,
      "outputs": [
        {
          "output_type": "execute_result",
          "data": {
            "text/plain": [
              "Text(0, 0.5, \u0027Mean Error | Assertiveness\u0027)"
            ]
          },
          "metadata": {
            "tags": []
          },
          "execution_count": 23
        },
        {
          "output_type": "display_data",
          "data": {
            "image/png": "iVBORw0KGgoAAAANSUhEUgAABCMAAAImCAYAAABpUkBBAAAABHNCSVQICAgIfAhkiAAAAAlwSFlz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\u003d\n",
            "text/plain": [
              "\u003cFigure size 1296x648 with 1 Axes\u003e"
            ]
          },
          "metadata": {
            "tags": []
          }
        }
      ]
    }
  ]
}